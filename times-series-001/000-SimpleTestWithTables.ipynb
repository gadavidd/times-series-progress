{
 "cells": [
  {
   "cell_type": "code",
   "outputs": [
    {
     "data": {
      "text/plain": "Empty DataFrame\nColumns: [emailsOpened, user, week]\nIndex: []",
      "text/html": "<div>\n<style scoped>\n    .dataframe tbody tr th:only-of-type {\n        vertical-align: middle;\n    }\n\n    .dataframe tbody tr th {\n        vertical-align: top;\n    }\n\n    .dataframe thead th {\n        text-align: right;\n    }\n</style>\n<table border=\"1\" class=\"dataframe\">\n  <thead>\n    <tr style=\"text-align: right;\">\n      <th></th>\n      <th>emailsOpened</th>\n      <th>user</th>\n      <th>week</th>\n    </tr>\n  </thead>\n  <tbody>\n  </tbody>\n</table>\n</div>"
     },
     "execution_count": 6,
     "metadata": {},
     "output_type": "execute_result"
    }
   ],
   "source": [
    "import pandas as pd\n",
    "\n",
    "# emails.csv from \n",
    "\n",
    "import csv\n",
    "file_path_email = 'data/emails.csv'\n",
    "\n",
    "#Are there null weeks?\n",
    "emails = pd.read_csv(file_path_email) #https://github.com/PracticalTimeSeriesAnalysis/BookRepo/blob/master/Ch02/data/emails.csv\n",
    "emails['week'] = pd.to_datetime(emails['week'])\n",
    "emails[emails.emailsOpened < 1]"
   ],
   "metadata": {
    "collapsed": false,
    "ExecuteTime": {
     "end_time": "2024-12-13T16:57:18.276516400Z",
     "start_time": "2024-12-13T16:57:18.230711900Z"
    }
   },
   "id": "e82680eda59138e",
   "execution_count": 6
  },
  {
   "cell_type": "code",
   "outputs": [
    {
     "data": {
      "text/plain": "       emailsOpened   user       week\n25464           1.0  998.0 2017-12-04\n25465           3.0  998.0 2017-12-11\n25466           3.0  998.0 2017-12-18\n25467           3.0  998.0 2018-01-01\n25468           3.0  998.0 2018-01-08\n25469           2.0  998.0 2018-01-15\n25470           3.0  998.0 2018-01-22\n25471           2.0  998.0 2018-01-29\n25472           3.0  998.0 2018-02-05\n25473           3.0  998.0 2018-02-12\n25474           3.0  998.0 2018-02-19\n25475           2.0  998.0 2018-02-26\n25476           2.0  998.0 2018-03-05\n25477           3.0  998.0 2018-03-12\n25478           2.0  998.0 2018-03-19\n25479           2.0  998.0 2018-03-26\n25480           3.0  998.0 2018-04-02\n25481           3.0  998.0 2018-04-09\n25482           3.0  998.0 2018-04-16\n25483           3.0  998.0 2018-04-30\n25484           3.0  998.0 2018-05-07\n25485           3.0  998.0 2018-05-14\n25486           3.0  998.0 2018-05-21\n25487           3.0  998.0 2018-05-28",
      "text/html": "<div>\n<style scoped>\n    .dataframe tbody tr th:only-of-type {\n        vertical-align: middle;\n    }\n\n    .dataframe tbody tr th {\n        vertical-align: top;\n    }\n\n    .dataframe thead th {\n        text-align: right;\n    }\n</style>\n<table border=\"1\" class=\"dataframe\">\n  <thead>\n    <tr style=\"text-align: right;\">\n      <th></th>\n      <th>emailsOpened</th>\n      <th>user</th>\n      <th>week</th>\n    </tr>\n  </thead>\n  <tbody>\n    <tr>\n      <th>25464</th>\n      <td>1.0</td>\n      <td>998.0</td>\n      <td>2017-12-04</td>\n    </tr>\n    <tr>\n      <th>25465</th>\n      <td>3.0</td>\n      <td>998.0</td>\n      <td>2017-12-11</td>\n    </tr>\n    <tr>\n      <th>25466</th>\n      <td>3.0</td>\n      <td>998.0</td>\n      <td>2017-12-18</td>\n    </tr>\n    <tr>\n      <th>25467</th>\n      <td>3.0</td>\n      <td>998.0</td>\n      <td>2018-01-01</td>\n    </tr>\n    <tr>\n      <th>25468</th>\n      <td>3.0</td>\n      <td>998.0</td>\n      <td>2018-01-08</td>\n    </tr>\n    <tr>\n      <th>25469</th>\n      <td>2.0</td>\n      <td>998.0</td>\n      <td>2018-01-15</td>\n    </tr>\n    <tr>\n      <th>25470</th>\n      <td>3.0</td>\n      <td>998.0</td>\n      <td>2018-01-22</td>\n    </tr>\n    <tr>\n      <th>25471</th>\n      <td>2.0</td>\n      <td>998.0</td>\n      <td>2018-01-29</td>\n    </tr>\n    <tr>\n      <th>25472</th>\n      <td>3.0</td>\n      <td>998.0</td>\n      <td>2018-02-05</td>\n    </tr>\n    <tr>\n      <th>25473</th>\n      <td>3.0</td>\n      <td>998.0</td>\n      <td>2018-02-12</td>\n    </tr>\n    <tr>\n      <th>25474</th>\n      <td>3.0</td>\n      <td>998.0</td>\n      <td>2018-02-19</td>\n    </tr>\n    <tr>\n      <th>25475</th>\n      <td>2.0</td>\n      <td>998.0</td>\n      <td>2018-02-26</td>\n    </tr>\n    <tr>\n      <th>25476</th>\n      <td>2.0</td>\n      <td>998.0</td>\n      <td>2018-03-05</td>\n    </tr>\n    <tr>\n      <th>25477</th>\n      <td>3.0</td>\n      <td>998.0</td>\n      <td>2018-03-12</td>\n    </tr>\n    <tr>\n      <th>25478</th>\n      <td>2.0</td>\n      <td>998.0</td>\n      <td>2018-03-19</td>\n    </tr>\n    <tr>\n      <th>25479</th>\n      <td>2.0</td>\n      <td>998.0</td>\n      <td>2018-03-26</td>\n    </tr>\n    <tr>\n      <th>25480</th>\n      <td>3.0</td>\n      <td>998.0</td>\n      <td>2018-04-02</td>\n    </tr>\n    <tr>\n      <th>25481</th>\n      <td>3.0</td>\n      <td>998.0</td>\n      <td>2018-04-09</td>\n    </tr>\n    <tr>\n      <th>25482</th>\n      <td>3.0</td>\n      <td>998.0</td>\n      <td>2018-04-16</td>\n    </tr>\n    <tr>\n      <th>25483</th>\n      <td>3.0</td>\n      <td>998.0</td>\n      <td>2018-04-30</td>\n    </tr>\n    <tr>\n      <th>25484</th>\n      <td>3.0</td>\n      <td>998.0</td>\n      <td>2018-05-07</td>\n    </tr>\n    <tr>\n      <th>25485</th>\n      <td>3.0</td>\n      <td>998.0</td>\n      <td>2018-05-14</td>\n    </tr>\n    <tr>\n      <th>25486</th>\n      <td>3.0</td>\n      <td>998.0</td>\n      <td>2018-05-21</td>\n    </tr>\n    <tr>\n      <th>25487</th>\n      <td>3.0</td>\n      <td>998.0</td>\n      <td>2018-05-28</td>\n    </tr>\n  </tbody>\n</table>\n</div>"
     },
     "execution_count": 7,
     "metadata": {},
     "output_type": "execute_result"
    }
   ],
   "source": [
    "#Are null weeks actually reported?\n",
    "emails[emails.user == 998]"
   ],
   "metadata": {
    "collapsed": false,
    "ExecuteTime": {
     "end_time": "2024-12-13T16:57:18.421703700Z",
     "start_time": "2024-12-13T16:57:18.252873500Z"
    }
   },
   "id": "567478869c539ecd",
   "execution_count": 7
  },
  {
   "cell_type": "code",
   "outputs": [
    {
     "data": {
      "text/plain": "25.0"
     },
     "execution_count": 8,
     "metadata": {},
     "output_type": "execute_result"
    }
   ],
   "source": [
    "# We can see that some weeks are missing. How many weeks are there between the first and last event for member 998?\n",
    "# First, we calculate the member's membership duration in weeks\n",
    "(max(emails[emails.user == 998].week) - min(emails[emails.user == 998].week)).days/7"
   ],
   "metadata": {
    "collapsed": false,
    "ExecuteTime": {
     "end_time": "2024-12-13T16:57:18.423701600Z",
     "start_time": "2024-12-13T16:57:18.263999600Z"
    }
   },
   "id": "1a19c8918034d9c6",
   "execution_count": 8
  },
  {
   "cell_type": "code",
   "outputs": [
    {
     "data": {
      "text/plain": "(24, 3)"
     },
     "execution_count": 9,
     "metadata": {},
     "output_type": "execute_result"
    }
   ],
   "source": [
    "#How many corresponding weeks of data do we have for this member:\n",
    "emails[emails.user == 998].shape"
   ],
   "metadata": {
    "collapsed": false,
    "ExecuteTime": {
     "end_time": "2024-12-13T16:57:18.423701600Z",
     "start_time": "2024-12-13T16:57:18.276516400Z"
    }
   },
   "id": "35802ebef81813f6",
   "execution_count": 9
  },
  {
   "cell_type": "code",
   "outputs": [
    {
     "data": {
      "text/plain": "MultiIndex([('2015-06-01',   1.0),\n            ('2015-06-01',   3.0),\n            ('2015-06-01',   5.0),\n            ('2015-06-01',   6.0),\n            ('2015-06-01',   9.0),\n            ('2015-06-01',  10.0),\n            ('2015-06-01',  14.0),\n            ('2015-06-01',  16.0),\n            ('2015-06-01',  20.0),\n            ('2015-06-01',  21.0),\n            ...\n            ('2015-08-31', 973.0),\n            ('2015-08-31', 977.0),\n            ('2015-08-31', 982.0),\n            ('2015-08-31', 984.0),\n            ('2015-08-31', 987.0),\n            ('2015-08-31', 991.0),\n            ('2015-08-31', 992.0),\n            ('2015-08-31', 993.0),\n            ('2015-08-31', 995.0),\n            ('2015-08-31', 998.0)],\n           length=93247)"
     },
     "execution_count": 10,
     "metadata": {},
     "output_type": "execute_result"
    }
   ],
   "source": [
    "# There should be 26 lines, so there is a missing week. Fill in the missing week:\n",
    "#1) Create a Cartesian product with the combination of users and weeks\n",
    "complete_idx = pd.MultiIndex.from_product((set(emails.week),set(emails.user)))\n",
    "complete_idx"
   ],
   "metadata": {
    "collapsed": false,
    "ExecuteTime": {
     "end_time": "2024-12-13T16:57:18.467701900Z",
     "start_time": "2024-12-13T16:57:18.282406200Z"
    }
   },
   "id": "3a12e7dc3b7dc51a",
   "execution_count": 10
  },
  {
   "cell_type": "code",
   "outputs": [],
   "source": [
    "# 2) Use the Cartesian product to reindex the original table and fill in the missing values:\n",
    "all_email = emails.set_index(['week', 'user']).reindex(complete_idx, fill_value = 0).reset_index()\n",
    "\n",
    "all_email.columns = ['week','user','emailsOpened']"
   ],
   "metadata": {
    "collapsed": false,
    "ExecuteTime": {
     "end_time": "2024-12-13T16:57:18.467701900Z",
     "start_time": "2024-12-13T16:57:18.319025200Z"
    }
   },
   "id": "acf0cb2c229136f6",
   "execution_count": 11
  },
  {
   "cell_type": "code",
   "outputs": [
    {
     "data": {
      "text/plain": "            week   user  emailsOpened\n74920 2015-02-09  998.0           0.0\n84622 2015-02-16  998.0           0.0\n18864 2015-02-23  998.0           0.0\n28027 2015-03-02  998.0           0.0\n75459 2015-03-09  998.0           0.0\n...          ...    ...           ...\n70608 2018-04-30  998.0           3.0\n50665 2018-05-07  998.0           3.0\n41502 2018-05-14  998.0           3.0\n23715 2018-05-21  998.0           3.0\n29105 2018-05-28  998.0           3.0\n\n[173 rows x 3 columns]",
      "text/html": "<div>\n<style scoped>\n    .dataframe tbody tr th:only-of-type {\n        vertical-align: middle;\n    }\n\n    .dataframe tbody tr th {\n        vertical-align: top;\n    }\n\n    .dataframe thead th {\n        text-align: right;\n    }\n</style>\n<table border=\"1\" class=\"dataframe\">\n  <thead>\n    <tr style=\"text-align: right;\">\n      <th></th>\n      <th>week</th>\n      <th>user</th>\n      <th>emailsOpened</th>\n    </tr>\n  </thead>\n  <tbody>\n    <tr>\n      <th>74920</th>\n      <td>2015-02-09</td>\n      <td>998.0</td>\n      <td>0.0</td>\n    </tr>\n    <tr>\n      <th>84622</th>\n      <td>2015-02-16</td>\n      <td>998.0</td>\n      <td>0.0</td>\n    </tr>\n    <tr>\n      <th>18864</th>\n      <td>2015-02-23</td>\n      <td>998.0</td>\n      <td>0.0</td>\n    </tr>\n    <tr>\n      <th>28027</th>\n      <td>2015-03-02</td>\n      <td>998.0</td>\n      <td>0.0</td>\n    </tr>\n    <tr>\n      <th>75459</th>\n      <td>2015-03-09</td>\n      <td>998.0</td>\n      <td>0.0</td>\n    </tr>\n    <tr>\n      <th>...</th>\n      <td>...</td>\n      <td>...</td>\n      <td>...</td>\n    </tr>\n    <tr>\n      <th>70608</th>\n      <td>2018-04-30</td>\n      <td>998.0</td>\n      <td>3.0</td>\n    </tr>\n    <tr>\n      <th>50665</th>\n      <td>2018-05-07</td>\n      <td>998.0</td>\n      <td>3.0</td>\n    </tr>\n    <tr>\n      <th>41502</th>\n      <td>2018-05-14</td>\n      <td>998.0</td>\n      <td>3.0</td>\n    </tr>\n    <tr>\n      <th>23715</th>\n      <td>2018-05-21</td>\n      <td>998.0</td>\n      <td>3.0</td>\n    </tr>\n    <tr>\n      <th>29105</th>\n      <td>2018-05-28</td>\n      <td>998.0</td>\n      <td>3.0</td>\n    </tr>\n  </tbody>\n</table>\n<p>173 rows × 3 columns</p>\n</div>"
     },
     "execution_count": 12,
     "metadata": {},
     "output_type": "execute_result"
    }
   ],
   "source": [
    "all_email[all_email.user == 998].sort_values('week')"
   ],
   "metadata": {
    "collapsed": false,
    "ExecuteTime": {
     "end_time": "2024-12-13T16:57:18.468701800Z",
     "start_time": "2024-12-13T16:57:18.334575200Z"
    }
   },
   "id": "d3b86f85a4165eb",
   "execution_count": 12
  },
  {
   "cell_type": "code",
   "outputs": [],
   "source": [
    "# User membership start cutoff point:\n",
    "# 1) Find start_date and end_date\n",
    "cutoff_dates = emails.groupby('user').week.agg(['min','max']).reset_index()\n",
    "cutoff_dates = cutoff_dates.reset_index()"
   ],
   "metadata": {
    "collapsed": false,
    "ExecuteTime": {
     "end_time": "2024-12-13T16:57:53.944008Z",
     "start_time": "2024-12-13T16:57:53.883019900Z"
    }
   },
   "id": "dd43f91cfe1baab6",
   "execution_count": 15
  },
  {
   "cell_type": "code",
   "outputs": [],
   "source": [
    "#Drop the DataFrame rows that don't contribute much to the timeline\n",
    "for _, row in cutoff_dates.iterrows():\n",
    "    member = row['user']\n",
    "    start_date = row['min']\n",
    "    end_date = row['max']\n",
    "    \n",
    "    drop_indices = all_email[\n",
    "        (all_email['user'] == member) & (all_email['week'] < start_date)\n",
    "    ].index\n",
    "    \n",
    "    drop_indices = all_email[\n",
    "        (all_email['user'] == member) & (all_email['week'] > end_date)\n",
    "    ].index\n",
    "    \n",
    "    all_email.drop(drop_indices, inplace=True)"
   ],
   "metadata": {
    "collapsed": false,
    "ExecuteTime": {
     "end_time": "2024-12-13T17:09:28.447199600Z",
     "start_time": "2024-12-13T17:09:26.322483800Z"
    }
   },
   "id": "77f37e61c9bdbca0",
   "execution_count": 21
  },
  {
   "cell_type": "code",
   "outputs": [
    {
     "data": {
      "text/plain": "            week   user  emailsOpened\n5     2015-06-01   10.0           0.0\n13    2015-06-01   31.0           0.0\n16    2015-06-01   38.0           0.0\n25    2015-06-01   54.0           0.0\n34    2015-06-01   75.0           0.0\n...          ...    ...           ...\n93221 2015-08-31  940.0           1.0\n93231 2015-08-31  959.0           0.0\n93238 2015-08-31  977.0           0.0\n93239 2015-08-31  982.0           0.0\n93243 2015-08-31  992.0           0.0\n\n[42339 rows x 3 columns]",
      "text/html": "<div>\n<style scoped>\n    .dataframe tbody tr th:only-of-type {\n        vertical-align: middle;\n    }\n\n    .dataframe tbody tr th {\n        vertical-align: top;\n    }\n\n    .dataframe thead th {\n        text-align: right;\n    }\n</style>\n<table border=\"1\" class=\"dataframe\">\n  <thead>\n    <tr style=\"text-align: right;\">\n      <th></th>\n      <th>week</th>\n      <th>user</th>\n      <th>emailsOpened</th>\n    </tr>\n  </thead>\n  <tbody>\n    <tr>\n      <th>5</th>\n      <td>2015-06-01</td>\n      <td>10.0</td>\n      <td>0.0</td>\n    </tr>\n    <tr>\n      <th>13</th>\n      <td>2015-06-01</td>\n      <td>31.0</td>\n      <td>0.0</td>\n    </tr>\n    <tr>\n      <th>16</th>\n      <td>2015-06-01</td>\n      <td>38.0</td>\n      <td>0.0</td>\n    </tr>\n    <tr>\n      <th>25</th>\n      <td>2015-06-01</td>\n      <td>54.0</td>\n      <td>0.0</td>\n    </tr>\n    <tr>\n      <th>34</th>\n      <td>2015-06-01</td>\n      <td>75.0</td>\n      <td>0.0</td>\n    </tr>\n    <tr>\n      <th>...</th>\n      <td>...</td>\n      <td>...</td>\n      <td>...</td>\n    </tr>\n    <tr>\n      <th>93221</th>\n      <td>2015-08-31</td>\n      <td>940.0</td>\n      <td>1.0</td>\n    </tr>\n    <tr>\n      <th>93231</th>\n      <td>2015-08-31</td>\n      <td>959.0</td>\n      <td>0.0</td>\n    </tr>\n    <tr>\n      <th>93238</th>\n      <td>2015-08-31</td>\n      <td>977.0</td>\n      <td>0.0</td>\n    </tr>\n    <tr>\n      <th>93239</th>\n      <td>2015-08-31</td>\n      <td>982.0</td>\n      <td>0.0</td>\n    </tr>\n    <tr>\n      <th>93243</th>\n      <td>2015-08-31</td>\n      <td>992.0</td>\n      <td>0.0</td>\n    </tr>\n  </tbody>\n</table>\n<p>42339 rows × 3 columns</p>\n</div>"
     },
     "execution_count": 34,
     "metadata": {},
     "output_type": "execute_result"
    }
   ],
   "source": [
    "all_email"
   ],
   "metadata": {
    "collapsed": false,
    "ExecuteTime": {
     "end_time": "2024-12-13T18:55:16.032587700Z",
     "start_time": "2024-12-13T18:55:15.997070700Z"
    }
   },
   "id": "d48d8eafd63a0a7f",
   "execution_count": 34
  },
  {
   "cell_type": "code",
   "outputs": [
    {
     "data": {
      "text/plain": "                     amount   user\ntimestamp                         \n2017-11-12 11:13:44    25.0    0.0\n2015-08-25 19:01:45    50.0    0.0\n2015-03-26 12:03:47    25.0    0.0\n2016-07-06 12:24:55    50.0    0.0\n2016-05-11 18:13:04    50.0    1.0\n...                     ...    ...\n2016-09-02 11:20:00    25.0  992.0\n2017-11-02 12:17:06    50.0  993.0\n2016-09-13 21:09:47  1000.0  995.0\n2017-09-29 20:03:01  1000.0  995.0\n2018-01-03 19:24:24    50.0  998.0\n\n[2676 rows x 2 columns]",
      "text/html": "<div>\n<style scoped>\n    .dataframe tbody tr th:only-of-type {\n        vertical-align: middle;\n    }\n\n    .dataframe tbody tr th {\n        vertical-align: top;\n    }\n\n    .dataframe thead th {\n        text-align: right;\n    }\n</style>\n<table border=\"1\" class=\"dataframe\">\n  <thead>\n    <tr style=\"text-align: right;\">\n      <th></th>\n      <th>amount</th>\n      <th>user</th>\n    </tr>\n    <tr>\n      <th>timestamp</th>\n      <th></th>\n      <th></th>\n    </tr>\n  </thead>\n  <tbody>\n    <tr>\n      <th>2017-11-12 11:13:44</th>\n      <td>25.0</td>\n      <td>0.0</td>\n    </tr>\n    <tr>\n      <th>2015-08-25 19:01:45</th>\n      <td>50.0</td>\n      <td>0.0</td>\n    </tr>\n    <tr>\n      <th>2015-03-26 12:03:47</th>\n      <td>25.0</td>\n      <td>0.0</td>\n    </tr>\n    <tr>\n      <th>2016-07-06 12:24:55</th>\n      <td>50.0</td>\n      <td>0.0</td>\n    </tr>\n    <tr>\n      <th>2016-05-11 18:13:04</th>\n      <td>50.0</td>\n      <td>1.0</td>\n    </tr>\n    <tr>\n      <th>...</th>\n      <td>...</td>\n      <td>...</td>\n    </tr>\n    <tr>\n      <th>2016-09-02 11:20:00</th>\n      <td>25.0</td>\n      <td>992.0</td>\n    </tr>\n    <tr>\n      <th>2017-11-02 12:17:06</th>\n      <td>50.0</td>\n      <td>993.0</td>\n    </tr>\n    <tr>\n      <th>2016-09-13 21:09:47</th>\n      <td>1000.0</td>\n      <td>995.0</td>\n    </tr>\n    <tr>\n      <th>2017-09-29 20:03:01</th>\n      <td>1000.0</td>\n      <td>995.0</td>\n    </tr>\n    <tr>\n      <th>2018-01-03 19:24:24</th>\n      <td>50.0</td>\n      <td>998.0</td>\n    </tr>\n  </tbody>\n</table>\n<p>2676 rows × 2 columns</p>\n</div>"
     },
     "execution_count": 26,
     "metadata": {},
     "output_type": "execute_result"
    }
   ],
   "source": [
    "# Relate email and donation data to each other - do p dpwmsampling of the donation data to transform it into a weekly time series that is comparable\n",
    "\n",
    "import csv\n",
    "file_path_donations = 'data/donations.csv'\n",
    "\n",
    "#Are there null weeks?\n",
    "donations = pd.read_csv(file_path_donations) #https://github.com/PracticalTimeSeriesAnalysis/BookRepo/blob/master/Ch02/data/emails.csv\n",
    "donations.timestamp = pd.to_datetime(donations.timestamp)\n",
    "#Set timestamp to index\n",
    "donations.set_index('timestamp', inplace = True)"
   ],
   "metadata": {
    "collapsed": false,
    "ExecuteTime": {
     "end_time": "2024-12-13T17:40:52.148021300Z",
     "start_time": "2024-12-13T17:40:52.116338800Z"
    }
   },
   "id": "f2dcdd4e7a3029c4",
   "execution_count": 26
  },
  {
   "cell_type": "code",
   "outputs": [],
   "source": [
    "agg_don = (\n",
    "    donations\n",
    "    .groupby('user')\n",
    "    .apply(lambda df: df.resample(\"W-MON\")['amount'].sum().dropna(), include_groups=False)\n",
    "    .reset_index()\n",
    ")"
   ],
   "metadata": {
    "collapsed": false,
    "ExecuteTime": {
     "end_time": "2024-12-13T19:03:31.368469300Z",
     "start_time": "2024-12-13T19:03:30.226388900Z"
    }
   },
   "id": "1d1923d66a075c2a",
   "execution_count": 52
  },
  {
   "cell_type": "code",
   "outputs": [],
   "source": [
    "# Emails and user-aligned action data\n",
    "\n",
    "merged_df = pd.DataFrame()  # Initialize an empty DataFrame\n",
    "\n",
    "for user, user_email in all_email.groupby('user'):\n",
    "    user_donations = agg_don[agg_don['user'] == user].copy()  # Filter donations for the user\n",
    "    user_donations.set_index('timestamp', inplace=True)  # Reset the index to timestamp\n",
    "    \n",
    "    user_email = all_email[all_email['user'] == user].copy()  # Filter emails for the user\n",
    "    user_email.set_index('week', inplace=True)  # Reset the index to week\n",
    "    \n",
    "    # Perform the merge of the DataFrames\n",
    "    df = pd.merge(user_email, user_donations, how='left', left_index=True, right_index=True)\n",
    "    df = df.fillna(0)  # Fill null values with 0\n",
    "    df['user'] = df['user_x']  # Add the 'user' column\n",
    "    \n",
    "    # Add the results to merged_df using pd.concat\n",
    "    merged_df = pd.concat(\n",
    "        [merged_df, df.reset_index()[['user', 'week', 'emailsOpened', 'amount']]],\n",
    "        ignore_index=True\n",
    "    )\n"
   ],
   "metadata": {
    "collapsed": false,
    "ExecuteTime": {
     "end_time": "2024-12-13T19:12:18.156610200Z",
     "start_time": "2024-12-13T19:12:16.005853600Z"
    }
   },
   "id": "44380c4ce6ac95f0",
   "execution_count": 63
  },
  {
   "cell_type": "code",
   "outputs": [
    {
     "name": "stderr",
     "output_type": "stream",
     "text": [
      "C:\\Users\\gdavid\\AppData\\Local\\Temp\\ipykernel_9108\\856631622.py:3: SettingWithCopyWarning: \n",
      "A value is trying to be set on a copy of a slice from a DataFrame.\n",
      "Try using .loc[row_indexer,col_indexer] = value instead\n",
      "\n",
      "See the caveats in the documentation: https://pandas.pydata.org/pandas-docs/stable/user_guide/indexing.html#returning-a-view-versus-a-copy\n",
      "  df['target'] = df.amount.shift(1)\n"
     ]
    },
    {
     "data": {
      "text/plain": "        user       week  emailsOpened  amount  target\n42313  998.0 2018-01-08           3.0    50.0     0.0\n42314  998.0 2018-04-09           3.0     0.0    50.0\n42315  998.0 2017-12-18           3.0     0.0     0.0\n42316  998.0 2018-01-22           3.0     0.0     0.0\n42317  998.0 2018-05-21           3.0     0.0     0.0\n42318  998.0 2017-12-25           0.0     0.0     0.0\n42319  998.0 2018-01-15           2.0     0.0     0.0\n42320  998.0 2018-05-28           3.0     0.0     0.0\n42321  998.0 2018-05-14           3.0     0.0     0.0\n42322  998.0 2018-03-19           2.0     0.0     0.0\n42323  998.0 2018-01-01           3.0     0.0     0.0\n42324  998.0 2018-02-05           3.0     0.0     0.0\n42325  998.0 2018-04-16           3.0     0.0     0.0\n42326  998.0 2018-05-07           3.0     0.0     0.0\n42327  998.0 2018-03-12           3.0     0.0     0.0\n42328  998.0 2018-02-26           2.0     0.0     0.0\n42329  998.0 2018-04-23           0.0     0.0     0.0\n42330  998.0 2018-03-05           2.0     0.0     0.0\n42331  998.0 2018-04-02           3.0     0.0     0.0\n42332  998.0 2017-12-04           1.0     0.0     0.0\n42333  998.0 2018-04-30           3.0     0.0     0.0\n42334  998.0 2018-01-29           2.0     0.0     0.0\n42335  998.0 2018-03-26           2.0     0.0     0.0\n42336  998.0 2018-02-12           3.0     0.0     0.0\n42337  998.0 2018-02-19           3.0     0.0     0.0\n42338  998.0 2017-12-11           3.0     0.0     0.0",
      "text/html": "<div>\n<style scoped>\n    .dataframe tbody tr th:only-of-type {\n        vertical-align: middle;\n    }\n\n    .dataframe tbody tr th {\n        vertical-align: top;\n    }\n\n    .dataframe thead th {\n        text-align: right;\n    }\n</style>\n<table border=\"1\" class=\"dataframe\">\n  <thead>\n    <tr style=\"text-align: right;\">\n      <th></th>\n      <th>user</th>\n      <th>week</th>\n      <th>emailsOpened</th>\n      <th>amount</th>\n      <th>target</th>\n    </tr>\n  </thead>\n  <tbody>\n    <tr>\n      <th>42313</th>\n      <td>998.0</td>\n      <td>2018-01-08</td>\n      <td>3.0</td>\n      <td>50.0</td>\n      <td>0.0</td>\n    </tr>\n    <tr>\n      <th>42314</th>\n      <td>998.0</td>\n      <td>2018-04-09</td>\n      <td>3.0</td>\n      <td>0.0</td>\n      <td>50.0</td>\n    </tr>\n    <tr>\n      <th>42315</th>\n      <td>998.0</td>\n      <td>2017-12-18</td>\n      <td>3.0</td>\n      <td>0.0</td>\n      <td>0.0</td>\n    </tr>\n    <tr>\n      <th>42316</th>\n      <td>998.0</td>\n      <td>2018-01-22</td>\n      <td>3.0</td>\n      <td>0.0</td>\n      <td>0.0</td>\n    </tr>\n    <tr>\n      <th>42317</th>\n      <td>998.0</td>\n      <td>2018-05-21</td>\n      <td>3.0</td>\n      <td>0.0</td>\n      <td>0.0</td>\n    </tr>\n    <tr>\n      <th>42318</th>\n      <td>998.0</td>\n      <td>2017-12-25</td>\n      <td>0.0</td>\n      <td>0.0</td>\n      <td>0.0</td>\n    </tr>\n    <tr>\n      <th>42319</th>\n      <td>998.0</td>\n      <td>2018-01-15</td>\n      <td>2.0</td>\n      <td>0.0</td>\n      <td>0.0</td>\n    </tr>\n    <tr>\n      <th>42320</th>\n      <td>998.0</td>\n      <td>2018-05-28</td>\n      <td>3.0</td>\n      <td>0.0</td>\n      <td>0.0</td>\n    </tr>\n    <tr>\n      <th>42321</th>\n      <td>998.0</td>\n      <td>2018-05-14</td>\n      <td>3.0</td>\n      <td>0.0</td>\n      <td>0.0</td>\n    </tr>\n    <tr>\n      <th>42322</th>\n      <td>998.0</td>\n      <td>2018-03-19</td>\n      <td>2.0</td>\n      <td>0.0</td>\n      <td>0.0</td>\n    </tr>\n    <tr>\n      <th>42323</th>\n      <td>998.0</td>\n      <td>2018-01-01</td>\n      <td>3.0</td>\n      <td>0.0</td>\n      <td>0.0</td>\n    </tr>\n    <tr>\n      <th>42324</th>\n      <td>998.0</td>\n      <td>2018-02-05</td>\n      <td>3.0</td>\n      <td>0.0</td>\n      <td>0.0</td>\n    </tr>\n    <tr>\n      <th>42325</th>\n      <td>998.0</td>\n      <td>2018-04-16</td>\n      <td>3.0</td>\n      <td>0.0</td>\n      <td>0.0</td>\n    </tr>\n    <tr>\n      <th>42326</th>\n      <td>998.0</td>\n      <td>2018-05-07</td>\n      <td>3.0</td>\n      <td>0.0</td>\n      <td>0.0</td>\n    </tr>\n    <tr>\n      <th>42327</th>\n      <td>998.0</td>\n      <td>2018-03-12</td>\n      <td>3.0</td>\n      <td>0.0</td>\n      <td>0.0</td>\n    </tr>\n    <tr>\n      <th>42328</th>\n      <td>998.0</td>\n      <td>2018-02-26</td>\n      <td>2.0</td>\n      <td>0.0</td>\n      <td>0.0</td>\n    </tr>\n    <tr>\n      <th>42329</th>\n      <td>998.0</td>\n      <td>2018-04-23</td>\n      <td>0.0</td>\n      <td>0.0</td>\n      <td>0.0</td>\n    </tr>\n    <tr>\n      <th>42330</th>\n      <td>998.0</td>\n      <td>2018-03-05</td>\n      <td>2.0</td>\n      <td>0.0</td>\n      <td>0.0</td>\n    </tr>\n    <tr>\n      <th>42331</th>\n      <td>998.0</td>\n      <td>2018-04-02</td>\n      <td>3.0</td>\n      <td>0.0</td>\n      <td>0.0</td>\n    </tr>\n    <tr>\n      <th>42332</th>\n      <td>998.0</td>\n      <td>2017-12-04</td>\n      <td>1.0</td>\n      <td>0.0</td>\n      <td>0.0</td>\n    </tr>\n    <tr>\n      <th>42333</th>\n      <td>998.0</td>\n      <td>2018-04-30</td>\n      <td>3.0</td>\n      <td>0.0</td>\n      <td>0.0</td>\n    </tr>\n    <tr>\n      <th>42334</th>\n      <td>998.0</td>\n      <td>2018-01-29</td>\n      <td>2.0</td>\n      <td>0.0</td>\n      <td>0.0</td>\n    </tr>\n    <tr>\n      <th>42335</th>\n      <td>998.0</td>\n      <td>2018-03-26</td>\n      <td>2.0</td>\n      <td>0.0</td>\n      <td>0.0</td>\n    </tr>\n    <tr>\n      <th>42336</th>\n      <td>998.0</td>\n      <td>2018-02-12</td>\n      <td>3.0</td>\n      <td>0.0</td>\n      <td>0.0</td>\n    </tr>\n    <tr>\n      <th>42337</th>\n      <td>998.0</td>\n      <td>2018-02-19</td>\n      <td>3.0</td>\n      <td>0.0</td>\n      <td>0.0</td>\n    </tr>\n    <tr>\n      <th>42338</th>\n      <td>998.0</td>\n      <td>2017-12-11</td>\n      <td>3.0</td>\n      <td>0.0</td>\n      <td>0.0</td>\n    </tr>\n  </tbody>\n</table>\n</div>"
     },
     "execution_count": 64,
     "metadata": {},
     "output_type": "execute_result"
    }
   ],
   "source": [
    "# Shift donations one week ahead to align email reading behavior with donations\n",
    "df = merged_df[merged_df.user == 998]\n",
    "df.loc[:, 'target'] = df.amount.shift(1)\n",
    "df = df.fillna(0)\n",
    "df"
   ],
   "metadata": {
    "collapsed": false,
    "ExecuteTime": {
     "end_time": "2024-12-13T19:15:59.536338Z",
     "start_time": "2024-12-13T19:15:59.398087200Z"
    }
   },
   "id": "133ebda32ad82291",
   "execution_count": 64
  }
 ],
 "metadata": {
  "kernelspec": {
   "display_name": "Python 3",
   "language": "python",
   "name": "python3"
  },
  "language_info": {
   "codemirror_mode": {
    "name": "ipython",
    "version": 2
   },
   "file_extension": ".py",
   "mimetype": "text/x-python",
   "name": "python",
   "nbconvert_exporter": "python",
   "pygments_lexer": "ipython2",
   "version": "2.7.6"
  }
 },
 "nbformat": 4,
 "nbformat_minor": 5
}
